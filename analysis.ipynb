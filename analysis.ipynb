{
 "metadata": {
  "language_info": {
   "codemirror_mode": {
    "name": "ipython",
    "version": 3
   },
   "file_extension": ".py",
   "mimetype": "text/x-python",
   "name": "python",
   "nbconvert_exporter": "python",
   "pygments_lexer": "ipython3",
   "version": "3.8.3-final"
  },
  "orig_nbformat": 2,
  "kernelspec": {
   "name": "python38332bitf61978c659e34062ad29b2c1a667dcdd",
   "display_name": "Python 3.8.3 32-bit",
   "language": "python"
  }
 },
 "nbformat": 4,
 "nbformat_minor": 2,
 "cells": [
  {
   "cell_type": "code",
   "execution_count": 36,
   "metadata": {},
   "outputs": [
    {
     "output_type": "execute_result",
     "data": {
      "text/plain": [
       "     WEO Subject Code                                 Subject Descriptor  \\\n",
       "7          NGDPRPPPPC  Gross domestic product per capita, constant pr...   \n",
       "52         NGDPRPPPPC  Gross domestic product per capita, constant pr...   \n",
       "97         NGDPRPPPPC  Gross domestic product per capita, constant pr...   \n",
       "142        NGDPRPPPPC  Gross domestic product per capita, constant pr...   \n",
       "187        NGDPRPPPPC  Gross domestic product per capita, constant pr...   \n",
       "...               ...                                                ...   \n",
       "8557       NGDPRPPPPC  Gross domestic product per capita, constant pr...   \n",
       "8602       NGDPRPPPPC  Gross domestic product per capita, constant pr...   \n",
       "8647       NGDPRPPPPC  Gross domestic product per capita, constant pr...   \n",
       "8692       NGDPRPPPPC  Gross domestic product per capita, constant pr...   \n",
       "8737       NGDPRPPPPC  Gross domestic product per capita, constant pr...   \n",
       "\n",
       "                                          Subject Notes  \n",
       "7     GDP is expressed in constant international dol...  \n",
       "52    GDP is expressed in constant international dol...  \n",
       "97    GDP is expressed in constant international dol...  \n",
       "142   GDP is expressed in constant international dol...  \n",
       "187   GDP is expressed in constant international dol...  \n",
       "...                                                 ...  \n",
       "8557  GDP is expressed in constant international dol...  \n",
       "8602  GDP is expressed in constant international dol...  \n",
       "8647  GDP is expressed in constant international dol...  \n",
       "8692  GDP is expressed in constant international dol...  \n",
       "8737  GDP is expressed in constant international dol...  \n",
       "\n",
       "[195 rows x 3 columns]"
      ],
      "text/html": "<div>\n<style scoped>\n    .dataframe tbody tr th:only-of-type {\n        vertical-align: middle;\n    }\n\n    .dataframe tbody tr th {\n        vertical-align: top;\n    }\n\n    .dataframe thead th {\n        text-align: right;\n    }\n</style>\n<table border=\"1\" class=\"dataframe\">\n  <thead>\n    <tr style=\"text-align: right;\">\n      <th></th>\n      <th>WEO Subject Code</th>\n      <th>Subject Descriptor</th>\n      <th>Subject Notes</th>\n    </tr>\n  </thead>\n  <tbody>\n    <tr>\n      <th>7</th>\n      <td>NGDPRPPPPC</td>\n      <td>Gross domestic product per capita, constant pr...</td>\n      <td>GDP is expressed in constant international dol...</td>\n    </tr>\n    <tr>\n      <th>52</th>\n      <td>NGDPRPPPPC</td>\n      <td>Gross domestic product per capita, constant pr...</td>\n      <td>GDP is expressed in constant international dol...</td>\n    </tr>\n    <tr>\n      <th>97</th>\n      <td>NGDPRPPPPC</td>\n      <td>Gross domestic product per capita, constant pr...</td>\n      <td>GDP is expressed in constant international dol...</td>\n    </tr>\n    <tr>\n      <th>142</th>\n      <td>NGDPRPPPPC</td>\n      <td>Gross domestic product per capita, constant pr...</td>\n      <td>GDP is expressed in constant international dol...</td>\n    </tr>\n    <tr>\n      <th>187</th>\n      <td>NGDPRPPPPC</td>\n      <td>Gross domestic product per capita, constant pr...</td>\n      <td>GDP is expressed in constant international dol...</td>\n    </tr>\n    <tr>\n      <th>...</th>\n      <td>...</td>\n      <td>...</td>\n      <td>...</td>\n    </tr>\n    <tr>\n      <th>8557</th>\n      <td>NGDPRPPPPC</td>\n      <td>Gross domestic product per capita, constant pr...</td>\n      <td>GDP is expressed in constant international dol...</td>\n    </tr>\n    <tr>\n      <th>8602</th>\n      <td>NGDPRPPPPC</td>\n      <td>Gross domestic product per capita, constant pr...</td>\n      <td>GDP is expressed in constant international dol...</td>\n    </tr>\n    <tr>\n      <th>8647</th>\n      <td>NGDPRPPPPC</td>\n      <td>Gross domestic product per capita, constant pr...</td>\n      <td>GDP is expressed in constant international dol...</td>\n    </tr>\n    <tr>\n      <th>8692</th>\n      <td>NGDPRPPPPC</td>\n      <td>Gross domestic product per capita, constant pr...</td>\n      <td>GDP is expressed in constant international dol...</td>\n    </tr>\n    <tr>\n      <th>8737</th>\n      <td>NGDPRPPPPC</td>\n      <td>Gross domestic product per capita, constant pr...</td>\n      <td>GDP is expressed in constant international dol...</td>\n    </tr>\n  </tbody>\n</table>\n<p>195 rows × 3 columns</p>\n</div>"
     },
     "metadata": {},
     "execution_count": 36
    }
   ],
   "source": [
    "import pandas as pd\n",
    "\n",
    "df = pd.read_table(\n",
    "    'WEOOct2020all.xls',\n",
    "    #nrows=10,\n",
    "    encoding='UTF-16-LE',\n",
    "    usecols=['WEO Subject Code', 'Subject Descriptor', 'Subject Notes']\n",
    ")\n",
    "\n",
    "# https://stackoverflow.com/a/64307654\n",
    "df[lambda col:col['WEO Subject Code']=='NGDPRPPPPC']"
   ]
  },
  {
   "cell_type": "code",
   "execution_count": 25,
   "metadata": {},
   "outputs": [
    {
     "output_type": "execute_result",
     "data": {
      "text/plain": [
       "   a\n",
       "0  0\n",
       "1  3"
      ],
      "text/html": "<div>\n<style scoped>\n    .dataframe tbody tr th:only-of-type {\n        vertical-align: middle;\n    }\n\n    .dataframe tbody tr th {\n        vertical-align: top;\n    }\n\n    .dataframe thead th {\n        text-align: right;\n    }\n</style>\n<table border=\"1\" class=\"dataframe\">\n  <thead>\n    <tr style=\"text-align: right;\">\n      <th></th>\n      <th>a</th>\n    </tr>\n  </thead>\n  <tbody>\n    <tr>\n      <th>0</th>\n      <td>0</td>\n    </tr>\n    <tr>\n      <th>1</th>\n      <td>3</td>\n    </tr>\n  </tbody>\n</table>\n</div>"
     },
     "metadata": {},
     "execution_count": 25
    }
   ],
   "source": [
    "import io\n",
    "t=\"\"\"a,b,c\n",
    "0,1,2\n",
    "3,4,5\"\"\"\n",
    "pd.read_csv(io.StringIO(t), header=0, usecols=['a'])\n"
   ]
  },
  {
   "cell_type": "code",
   "execution_count": null,
   "metadata": {},
   "outputs": [],
   "source": []
  }
 ]
}