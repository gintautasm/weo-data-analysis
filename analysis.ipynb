{
 "metadata": {
  "language_info": {
   "codemirror_mode": {
    "name": "ipython",
    "version": 3
   },
   "file_extension": ".py",
   "mimetype": "text/x-python",
   "name": "python",
   "nbconvert_exporter": "python",
   "pygments_lexer": "ipython3",
   "version": "3.8.3-final"
  },
  "orig_nbformat": 2,
  "kernelspec": {
   "name": "python38332bitf61978c659e34062ad29b2c1a667dcdd",
   "display_name": "Python 3.8.3 32-bit",
   "language": "python"
  }
 },
 "nbformat": 4,
 "nbformat_minor": 2,
 "cells": [
  {
   "cell_type": "code",
   "execution_count": 39,
   "metadata": {},
   "outputs": [],
   "source": [
    "# %load_ext pycodestyle_magic\n",
    "# %%pycodestyle\n",
    "# https://stackoverflow.com/a/54278757\n",
    "\n",
    "import pandas as pd\n",
    "import numpy as np\n",
    "\n",
    "weo_subject_code = 'WEO Subject Code'\n",
    "estimates_after = 'Estimates Start After'\n",
    "iso_col = 'ISO'\n",
    "country_name = 'Country'\n",
    "usecols = [iso_col, weo_subject_code, country_name]\n",
    "for i in range(1980,2020):\n",
    "    usecols.append(str(i))\n",
    "usecols.append(estimates_after)\n",
    "\n",
    "df = pd.read_table(\n",
    "    'WEOOct2020all.xls',\n",
    "    # nrows=10,\n",
    "    encoding='UTF-16-LE',\n",
    "    usecols=usecols,\n",
    "    thousands=','\n",
    ")\n",
    "\n",
    "gdppc = 'NGDPRPPPPC'\n",
    "\n",
    "gdp_per_capita_common_dollar = lambda col: col[weo_subject_code] == gdppc\n",
    "\n",
    "# https://stackoverflow.com/a/64307654\n",
    "#df[gdp_per_capita_common_dollar].values\n",
    "# for i, row in enumerate(df[gdp_per_capita_common_dollar].values):\n",
    "#     if row[2] < 1:\n",
    "#         print(i,row)\n",
    "\n",
    "# df_only_iso =  df[gdp_per_capita_common_dollar][iso_col]\n",
    "# df_only_iso\n"
   ]
  },
  {
   "cell_type": "code",
   "execution_count": 40,
   "metadata": {},
   "outputs": [
    {
     "output_type": "execute_result",
     "data": {
      "text/plain": [
       "2020.0"
      ]
     },
     "metadata": {},
     "execution_count": 40
    }
   ],
   "source": [
    "df2 = df.loc[lambda df: df[weo_subject_code] == gdppc]\n",
    "min(df2.loc[lambda df: df[estimates_after] > 0][estimates_after])\n",
    "max(df2.loc[lambda df: df[estimates_after] > 0][estimates_after])\n"
   ]
  },
  {
   "cell_type": "code",
   "execution_count": 41,
   "metadata": {},
   "outputs": [
    {
     "output_type": "execute_result",
     "data": {
      "text/plain": [
       "{'Austria': '',\n",
       " 'Australia': '',\n",
       " 'Belgium': '',\n",
       " 'Canada': '',\n",
       " 'Chile': '',\n",
       " 'Colombia': '',\n",
       " 'Czech Republic': '',\n",
       " 'Denmark': '',\n",
       " 'Estonia': '',\n",
       " 'Finland': '',\n",
       " 'France': '',\n",
       " 'Germany': '',\n",
       " 'Greece': '',\n",
       " 'Hungary': '',\n",
       " 'Iceland': '',\n",
       " 'Ireland': '',\n",
       " 'Israel': '',\n",
       " 'Italy': '',\n",
       " 'Japan': '',\n",
       " 'Korea': '',\n",
       " 'Latvia': '',\n",
       " 'Lithuania': '',\n",
       " 'Luxembourg': '',\n",
       " 'Mexico': '',\n",
       " 'Netherlands': '',\n",
       " 'New Zealand': '',\n",
       " 'Norway': '',\n",
       " 'Poland': '',\n",
       " 'Portugal': '',\n",
       " 'Slovak Republic': '',\n",
       " 'Slovenia': '',\n",
       " 'Spain': '',\n",
       " 'Sweden': '',\n",
       " 'Switzerland': '',\n",
       " 'Turkey': '',\n",
       " 'United Kingdom': '',\n",
       " 'United States': ''}"
      ]
     },
     "metadata": {},
     "execution_count": 41
    }
   ],
   "source": [
    "# import numpy as np\n",
    "\n",
    "# for i,row in enumerate(df2.values):\n",
    "#     if i > 10:\n",
    "#         break\n",
    "#     print(i, np.count_nonzero(np.isnan(row)))\n",
    "oecd_countries_all_caps = {'AUSTRIA':'',\n",
    "'AUSTRALIA':'',\n",
    "'BELGIUM':'',\n",
    "'CANADA':'',\n",
    "'CHILE':'',\n",
    "'COLOMBIA':'',\n",
    "'CZECH REPUBLIC':'',\n",
    "'DENMARK':'',\n",
    "'ESTONIA':'',\n",
    "'FINLAND':'',\n",
    "'FRANCE':'',\n",
    "'GERMANY':'',\n",
    "'GREECE':'',\n",
    "'HUNGARY':'',\n",
    "'ICELAND':'',\n",
    "'IRELAND':'',\n",
    "'ISRAEL':'',\n",
    "'ITALY':'',\n",
    "'JAPAN':'',\n",
    "'KOREA':'',\n",
    "'LATVIA':'',\n",
    "'LITHUANIA':'',\n",
    "'LUXEMBOURG':'',\n",
    "'MEXICO':'',\n",
    "'NETHERLANDS':'',\n",
    "'NEW ZEALAND':'',\n",
    "'NORWAY':'',\n",
    "'POLAND':'',\n",
    "'PORTUGAL':'',\n",
    "'SLOVAK REPUBLIC':'',\n",
    "'SLOVENIA':'',\n",
    "'SPAIN':'',\n",
    "'SWEDEN':'',\n",
    "'SWITZERLAND':'',\n",
    "'TURKEY':'',\n",
    "'UNITED KINGDOM':'',\n",
    "'UNITED STATES':''}\n",
    "\n",
    "oecd_countries = {}\n",
    "for key in oecd_countries_all_caps:\n",
    "    oecd_countries[key.title()] = ''\n",
    "oecd_countries\n"
   ]
  },
  {
   "cell_type": "code",
   "execution_count": 42,
   "metadata": {},
   "outputs": [
    {
     "output_type": "execute_result",
     "data": {
      "text/plain": [
       "<AxesSubplot:>"
      ]
     },
     "metadata": {},
     "execution_count": 42
    },
    {
     "output_type": "display_data",
     "data": {
      "text/plain": "<Figure size 432x288 with 0 Axes>"
     },
     "metadata": {}
    },
    {
     "output_type": "display_data",
     "data": {
      "text/plain": "<Figure size 432x288 with 1 Axes>",
      "image/svg+xml": "<?xml version=\"1.0\" encoding=\"utf-8\" standalone=\"no\"?>\r\n<!DOCTYPE svg PUBLIC \"-//W3C//DTD SVG 1.1//EN\"\r\n  \"http://www.w3.org/Graphics/SVG/1.1/DTD/svg11.dtd\">\r\n<!-- Created with matplotlib (https://matplotlib.org/) -->\r\n<svg height=\"248.518125pt\" version=\"1.1\" viewBox=\"0 0 372.103125 248.518125\" width=\"372.103125pt\" xmlns=\"http://www.w3.org/2000/svg\" xmlns:xlink=\"http://www.w3.org/1999/xlink\">\r\n <metadata>\r\n  <rdf:RDF xmlns:cc=\"http://creativecommons.org/ns#\" xmlns:dc=\"http://purl.org/dc/elements/1.1/\" xmlns:rdf=\"http://www.w3.org/1999/02/22-rdf-syntax-ns#\">\r\n   <cc:Work>\r\n    <dc:type rdf:resource=\"http://purl.org/dc/dcmitype/StillImage\"/>\r\n    <dc:date>2020-12-21T20:47:04.072619</dc:date>\r\n    <dc:format>image/svg+xml</dc:format>\r\n    <dc:creator>\r\n     <cc:Agent>\r\n      <dc:title>Matplotlib v3.3.3, https://matplotlib.org/</dc:title>\r\n     </cc:Agent>\r\n    </dc:creator>\r\n   </cc:Work>\r\n  </rdf:RDF>\r\n </metadata>\r\n <defs>\r\n  <style type=\"text/css\">*{stroke-linecap:butt;stroke-linejoin:round;}</style>\r\n </defs>\r\n <g id=\"figure_1\">\r\n  <g id=\"patch_1\">\r\n   <path d=\"M 0 248.518125 \r\nL 372.103125 248.518125 \r\nL 372.103125 0 \r\nL 0 0 \r\nz\r\n\" style=\"fill:none;\"/>\r\n  </g>\r\n  <g id=\"axes_1\">\r\n   <g id=\"patch_2\">\r\n    <path d=\"M 30.103125 224.64 \r\nL 364.903125 224.64 \r\nL 364.903125 7.2 \r\nL 30.103125 7.2 \r\nz\r\n\" style=\"fill:#ffffff;\"/>\r\n   </g>\r\n   <g id=\"matplotlib.axis_1\">\r\n    <g id=\"xtick_1\">\r\n     <g id=\"line2d_1\">\r\n      <defs>\r\n       <path d=\"M 0 0 \r\nL 0 3.5 \r\n\" id=\"m525cba77e6\" style=\"stroke:#000000;stroke-width:0.8;\"/>\r\n      </defs>\r\n      <g>\r\n       <use style=\"stroke:#000000;stroke-width:0.8;\" x=\"45.321307\" xlink:href=\"#m525cba77e6\" y=\"224.64\"/>\r\n      </g>\r\n     </g>\r\n     <g id=\"text_1\">\r\n      <!-- 2010 -->\r\n      <g transform=\"translate(32.596307 239.238437)scale(0.1 -0.1)\">\r\n       <defs>\r\n        <path d=\"M 19.1875 8.296875 \r\nL 53.609375 8.296875 \r\nL 53.609375 0 \r\nL 7.328125 0 \r\nL 7.328125 8.296875 \r\nQ 12.9375 14.109375 22.625 23.890625 \r\nQ 32.328125 33.6875 34.8125 36.53125 \r\nQ 39.546875 41.84375 41.421875 45.53125 \r\nQ 43.3125 49.21875 43.3125 52.78125 \r\nQ 43.3125 58.59375 39.234375 62.25 \r\nQ 35.15625 65.921875 28.609375 65.921875 \r\nQ 23.96875 65.921875 18.8125 64.3125 \r\nQ 13.671875 62.703125 7.8125 59.421875 \r\nL 7.8125 69.390625 \r\nQ 13.765625 71.78125 18.9375 73 \r\nQ 24.125 74.21875 28.421875 74.21875 \r\nQ 39.75 74.21875 46.484375 68.546875 \r\nQ 53.21875 62.890625 53.21875 53.421875 \r\nQ 53.21875 48.921875 51.53125 44.890625 \r\nQ 49.859375 40.875 45.40625 35.40625 \r\nQ 44.1875 33.984375 37.640625 27.21875 \r\nQ 31.109375 20.453125 19.1875 8.296875 \r\nz\r\n\" id=\"DejaVuSans-50\"/>\r\n        <path d=\"M 31.78125 66.40625 \r\nQ 24.171875 66.40625 20.328125 58.90625 \r\nQ 16.5 51.421875 16.5 36.375 \r\nQ 16.5 21.390625 20.328125 13.890625 \r\nQ 24.171875 6.390625 31.78125 6.390625 \r\nQ 39.453125 6.390625 43.28125 13.890625 \r\nQ 47.125 21.390625 47.125 36.375 \r\nQ 47.125 51.421875 43.28125 58.90625 \r\nQ 39.453125 66.40625 31.78125 66.40625 \r\nz\r\nM 31.78125 74.21875 \r\nQ 44.046875 74.21875 50.515625 64.515625 \r\nQ 56.984375 54.828125 56.984375 36.375 \r\nQ 56.984375 17.96875 50.515625 8.265625 \r\nQ 44.046875 -1.421875 31.78125 -1.421875 \r\nQ 19.53125 -1.421875 13.0625 8.265625 \r\nQ 6.59375 17.96875 6.59375 36.375 \r\nQ 6.59375 54.828125 13.0625 64.515625 \r\nQ 19.53125 74.21875 31.78125 74.21875 \r\nz\r\n\" id=\"DejaVuSans-48\"/>\r\n        <path d=\"M 12.40625 8.296875 \r\nL 28.515625 8.296875 \r\nL 28.515625 63.921875 \r\nL 10.984375 60.40625 \r\nL 10.984375 69.390625 \r\nL 28.421875 72.90625 \r\nL 38.28125 72.90625 \r\nL 38.28125 8.296875 \r\nL 54.390625 8.296875 \r\nL 54.390625 0 \r\nL 12.40625 0 \r\nz\r\n\" id=\"DejaVuSans-49\"/>\r\n       </defs>\r\n       <use xlink:href=\"#DejaVuSans-50\"/>\r\n       <use x=\"63.623047\" xlink:href=\"#DejaVuSans-48\"/>\r\n       <use x=\"127.246094\" xlink:href=\"#DejaVuSans-49\"/>\r\n       <use x=\"190.869141\" xlink:href=\"#DejaVuSans-48\"/>\r\n      </g>\r\n     </g>\r\n    </g>\r\n    <g id=\"xtick_2\">\r\n     <g id=\"line2d_2\">\r\n      <g>\r\n       <use style=\"stroke:#000000;stroke-width:0.8;\" x=\"112.95767\" xlink:href=\"#m525cba77e6\" y=\"224.64\"/>\r\n      </g>\r\n     </g>\r\n     <g id=\"text_2\">\r\n      <!-- 2012 -->\r\n      <g transform=\"translate(100.23267 239.238437)scale(0.1 -0.1)\">\r\n       <use xlink:href=\"#DejaVuSans-50\"/>\r\n       <use x=\"63.623047\" xlink:href=\"#DejaVuSans-48\"/>\r\n       <use x=\"127.246094\" xlink:href=\"#DejaVuSans-49\"/>\r\n       <use x=\"190.869141\" xlink:href=\"#DejaVuSans-50\"/>\r\n      </g>\r\n     </g>\r\n    </g>\r\n    <g id=\"xtick_3\">\r\n     <g id=\"line2d_3\">\r\n      <g>\r\n       <use style=\"stroke:#000000;stroke-width:0.8;\" x=\"180.594034\" xlink:href=\"#m525cba77e6\" y=\"224.64\"/>\r\n      </g>\r\n     </g>\r\n     <g id=\"text_3\">\r\n      <!-- 2014 -->\r\n      <g transform=\"translate(167.869034 239.238437)scale(0.1 -0.1)\">\r\n       <defs>\r\n        <path d=\"M 37.796875 64.3125 \r\nL 12.890625 25.390625 \r\nL 37.796875 25.390625 \r\nz\r\nM 35.203125 72.90625 \r\nL 47.609375 72.90625 \r\nL 47.609375 25.390625 \r\nL 58.015625 25.390625 \r\nL 58.015625 17.1875 \r\nL 47.609375 17.1875 \r\nL 47.609375 0 \r\nL 37.796875 0 \r\nL 37.796875 17.1875 \r\nL 4.890625 17.1875 \r\nL 4.890625 26.703125 \r\nz\r\n\" id=\"DejaVuSans-52\"/>\r\n       </defs>\r\n       <use xlink:href=\"#DejaVuSans-50\"/>\r\n       <use x=\"63.623047\" xlink:href=\"#DejaVuSans-48\"/>\r\n       <use x=\"127.246094\" xlink:href=\"#DejaVuSans-49\"/>\r\n       <use x=\"190.869141\" xlink:href=\"#DejaVuSans-52\"/>\r\n      </g>\r\n     </g>\r\n    </g>\r\n    <g id=\"xtick_4\">\r\n     <g id=\"line2d_4\">\r\n      <g>\r\n       <use style=\"stroke:#000000;stroke-width:0.8;\" x=\"248.230398\" xlink:href=\"#m525cba77e6\" y=\"224.64\"/>\r\n      </g>\r\n     </g>\r\n     <g id=\"text_4\">\r\n      <!-- 2016 -->\r\n      <g transform=\"translate(235.505398 239.238437)scale(0.1 -0.1)\">\r\n       <defs>\r\n        <path d=\"M 33.015625 40.375 \r\nQ 26.375 40.375 22.484375 35.828125 \r\nQ 18.609375 31.296875 18.609375 23.390625 \r\nQ 18.609375 15.53125 22.484375 10.953125 \r\nQ 26.375 6.390625 33.015625 6.390625 \r\nQ 39.65625 6.390625 43.53125 10.953125 \r\nQ 47.40625 15.53125 47.40625 23.390625 \r\nQ 47.40625 31.296875 43.53125 35.828125 \r\nQ 39.65625 40.375 33.015625 40.375 \r\nz\r\nM 52.59375 71.296875 \r\nL 52.59375 62.3125 \r\nQ 48.875 64.0625 45.09375 64.984375 \r\nQ 41.3125 65.921875 37.59375 65.921875 \r\nQ 27.828125 65.921875 22.671875 59.328125 \r\nQ 17.53125 52.734375 16.796875 39.40625 \r\nQ 19.671875 43.65625 24.015625 45.921875 \r\nQ 28.375 48.1875 33.59375 48.1875 \r\nQ 44.578125 48.1875 50.953125 41.515625 \r\nQ 57.328125 34.859375 57.328125 23.390625 \r\nQ 57.328125 12.15625 50.6875 5.359375 \r\nQ 44.046875 -1.421875 33.015625 -1.421875 \r\nQ 20.359375 -1.421875 13.671875 8.265625 \r\nQ 6.984375 17.96875 6.984375 36.375 \r\nQ 6.984375 53.65625 15.1875 63.9375 \r\nQ 23.390625 74.21875 37.203125 74.21875 \r\nQ 40.921875 74.21875 44.703125 73.484375 \r\nQ 48.484375 72.75 52.59375 71.296875 \r\nz\r\n\" id=\"DejaVuSans-54\"/>\r\n       </defs>\r\n       <use xlink:href=\"#DejaVuSans-50\"/>\r\n       <use x=\"63.623047\" xlink:href=\"#DejaVuSans-48\"/>\r\n       <use x=\"127.246094\" xlink:href=\"#DejaVuSans-49\"/>\r\n       <use x=\"190.869141\" xlink:href=\"#DejaVuSans-54\"/>\r\n      </g>\r\n     </g>\r\n    </g>\r\n    <g id=\"xtick_5\">\r\n     <g id=\"line2d_5\">\r\n      <g>\r\n       <use style=\"stroke:#000000;stroke-width:0.8;\" x=\"315.866761\" xlink:href=\"#m525cba77e6\" y=\"224.64\"/>\r\n      </g>\r\n     </g>\r\n     <g id=\"text_5\">\r\n      <!-- 2018 -->\r\n      <g transform=\"translate(303.141761 239.238437)scale(0.1 -0.1)\">\r\n       <defs>\r\n        <path d=\"M 31.78125 34.625 \r\nQ 24.75 34.625 20.71875 30.859375 \r\nQ 16.703125 27.09375 16.703125 20.515625 \r\nQ 16.703125 13.921875 20.71875 10.15625 \r\nQ 24.75 6.390625 31.78125 6.390625 \r\nQ 38.8125 6.390625 42.859375 10.171875 \r\nQ 46.921875 13.96875 46.921875 20.515625 \r\nQ 46.921875 27.09375 42.890625 30.859375 \r\nQ 38.875 34.625 31.78125 34.625 \r\nz\r\nM 21.921875 38.8125 \r\nQ 15.578125 40.375 12.03125 44.71875 \r\nQ 8.5 49.078125 8.5 55.328125 \r\nQ 8.5 64.0625 14.71875 69.140625 \r\nQ 20.953125 74.21875 31.78125 74.21875 \r\nQ 42.671875 74.21875 48.875 69.140625 \r\nQ 55.078125 64.0625 55.078125 55.328125 \r\nQ 55.078125 49.078125 51.53125 44.71875 \r\nQ 48 40.375 41.703125 38.8125 \r\nQ 48.828125 37.15625 52.796875 32.3125 \r\nQ 56.78125 27.484375 56.78125 20.515625 \r\nQ 56.78125 9.90625 50.3125 4.234375 \r\nQ 43.84375 -1.421875 31.78125 -1.421875 \r\nQ 19.734375 -1.421875 13.25 4.234375 \r\nQ 6.78125 9.90625 6.78125 20.515625 \r\nQ 6.78125 27.484375 10.78125 32.3125 \r\nQ 14.796875 37.15625 21.921875 38.8125 \r\nz\r\nM 18.3125 54.390625 \r\nQ 18.3125 48.734375 21.84375 45.5625 \r\nQ 25.390625 42.390625 31.78125 42.390625 \r\nQ 38.140625 42.390625 41.71875 45.5625 \r\nQ 45.3125 48.734375 45.3125 54.390625 \r\nQ 45.3125 60.0625 41.71875 63.234375 \r\nQ 38.140625 66.40625 31.78125 66.40625 \r\nQ 25.390625 66.40625 21.84375 63.234375 \r\nQ 18.3125 60.0625 18.3125 54.390625 \r\nz\r\n\" id=\"DejaVuSans-56\"/>\r\n       </defs>\r\n       <use xlink:href=\"#DejaVuSans-50\"/>\r\n       <use x=\"63.623047\" xlink:href=\"#DejaVuSans-48\"/>\r\n       <use x=\"127.246094\" xlink:href=\"#DejaVuSans-49\"/>\r\n       <use x=\"190.869141\" xlink:href=\"#DejaVuSans-56\"/>\r\n      </g>\r\n     </g>\r\n    </g>\r\n   </g>\r\n   <g id=\"matplotlib.axis_2\">\r\n    <g id=\"ytick_1\">\r\n     <g id=\"line2d_6\">\r\n      <defs>\r\n       <path d=\"M 0 0 \r\nL -3.5 0 \r\n\" id=\"m5636ab17f5\" style=\"stroke:#000000;stroke-width:0.8;\"/>\r\n      </defs>\r\n      <g>\r\n       <use style=\"stroke:#000000;stroke-width:0.8;\" x=\"30.103125\" xlink:href=\"#m5636ab17f5\" y=\"201.810543\"/>\r\n      </g>\r\n     </g>\r\n     <g id=\"text_6\">\r\n      <!-- 0.5 -->\r\n      <g transform=\"translate(7.2 205.609761)scale(0.1 -0.1)\">\r\n       <defs>\r\n        <path d=\"M 10.6875 12.40625 \r\nL 21 12.40625 \r\nL 21 0 \r\nL 10.6875 0 \r\nz\r\n\" id=\"DejaVuSans-46\"/>\r\n        <path d=\"M 10.796875 72.90625 \r\nL 49.515625 72.90625 \r\nL 49.515625 64.59375 \r\nL 19.828125 64.59375 \r\nL 19.828125 46.734375 \r\nQ 21.96875 47.46875 24.109375 47.828125 \r\nQ 26.265625 48.1875 28.421875 48.1875 \r\nQ 40.625 48.1875 47.75 41.5 \r\nQ 54.890625 34.8125 54.890625 23.390625 \r\nQ 54.890625 11.625 47.5625 5.09375 \r\nQ 40.234375 -1.421875 26.90625 -1.421875 \r\nQ 22.3125 -1.421875 17.546875 -0.640625 \r\nQ 12.796875 0.140625 7.71875 1.703125 \r\nL 7.71875 11.625 \r\nQ 12.109375 9.234375 16.796875 8.0625 \r\nQ 21.484375 6.890625 26.703125 6.890625 \r\nQ 35.15625 6.890625 40.078125 11.328125 \r\nQ 45.015625 15.765625 45.015625 23.390625 \r\nQ 45.015625 31 40.078125 35.4375 \r\nQ 35.15625 39.890625 26.703125 39.890625 \r\nQ 22.75 39.890625 18.8125 39.015625 \r\nQ 14.890625 38.140625 10.796875 36.28125 \r\nz\r\n\" id=\"DejaVuSans-53\"/>\r\n       </defs>\r\n       <use xlink:href=\"#DejaVuSans-48\"/>\r\n       <use x=\"63.623047\" xlink:href=\"#DejaVuSans-46\"/>\r\n       <use x=\"95.410156\" xlink:href=\"#DejaVuSans-53\"/>\r\n      </g>\r\n     </g>\r\n    </g>\r\n    <g id=\"ytick_2\">\r\n     <g id=\"line2d_7\">\r\n      <g>\r\n       <use style=\"stroke:#000000;stroke-width:0.8;\" x=\"30.103125\" xlink:href=\"#m5636ab17f5\" y=\"166.245101\"/>\r\n      </g>\r\n     </g>\r\n     <g id=\"text_7\">\r\n      <!-- 1.0 -->\r\n      <g transform=\"translate(7.2 170.044319)scale(0.1 -0.1)\">\r\n       <use xlink:href=\"#DejaVuSans-49\"/>\r\n       <use x=\"63.623047\" xlink:href=\"#DejaVuSans-46\"/>\r\n       <use x=\"95.410156\" xlink:href=\"#DejaVuSans-48\"/>\r\n      </g>\r\n     </g>\r\n    </g>\r\n    <g id=\"ytick_3\">\r\n     <g id=\"line2d_8\">\r\n      <g>\r\n       <use style=\"stroke:#000000;stroke-width:0.8;\" x=\"30.103125\" xlink:href=\"#m5636ab17f5\" y=\"130.679658\"/>\r\n      </g>\r\n     </g>\r\n     <g id=\"text_8\">\r\n      <!-- 1.5 -->\r\n      <g transform=\"translate(7.2 134.478877)scale(0.1 -0.1)\">\r\n       <use xlink:href=\"#DejaVuSans-49\"/>\r\n       <use x=\"63.623047\" xlink:href=\"#DejaVuSans-46\"/>\r\n       <use x=\"95.410156\" xlink:href=\"#DejaVuSans-53\"/>\r\n      </g>\r\n     </g>\r\n    </g>\r\n    <g id=\"ytick_4\">\r\n     <g id=\"line2d_9\">\r\n      <g>\r\n       <use style=\"stroke:#000000;stroke-width:0.8;\" x=\"30.103125\" xlink:href=\"#m5636ab17f5\" y=\"95.114216\"/>\r\n      </g>\r\n     </g>\r\n     <g id=\"text_9\">\r\n      <!-- 2.0 -->\r\n      <g transform=\"translate(7.2 98.913435)scale(0.1 -0.1)\">\r\n       <use xlink:href=\"#DejaVuSans-50\"/>\r\n       <use x=\"63.623047\" xlink:href=\"#DejaVuSans-46\"/>\r\n       <use x=\"95.410156\" xlink:href=\"#DejaVuSans-48\"/>\r\n      </g>\r\n     </g>\r\n    </g>\r\n    <g id=\"ytick_5\">\r\n     <g id=\"line2d_10\">\r\n      <g>\r\n       <use style=\"stroke:#000000;stroke-width:0.8;\" x=\"30.103125\" xlink:href=\"#m5636ab17f5\" y=\"59.548774\"/>\r\n      </g>\r\n     </g>\r\n     <g id=\"text_10\">\r\n      <!-- 2.5 -->\r\n      <g transform=\"translate(7.2 63.347993)scale(0.1 -0.1)\">\r\n       <use xlink:href=\"#DejaVuSans-50\"/>\r\n       <use x=\"63.623047\" xlink:href=\"#DejaVuSans-46\"/>\r\n       <use x=\"95.410156\" xlink:href=\"#DejaVuSans-53\"/>\r\n      </g>\r\n     </g>\r\n    </g>\r\n    <g id=\"ytick_6\">\r\n     <g id=\"line2d_11\">\r\n      <g>\r\n       <use style=\"stroke:#000000;stroke-width:0.8;\" x=\"30.103125\" xlink:href=\"#m5636ab17f5\" y=\"23.983332\"/>\r\n      </g>\r\n     </g>\r\n     <g id=\"text_11\">\r\n      <!-- 3.0 -->\r\n      <g transform=\"translate(7.2 27.782551)scale(0.1 -0.1)\">\r\n       <defs>\r\n        <path d=\"M 40.578125 39.3125 \r\nQ 47.65625 37.796875 51.625 33 \r\nQ 55.609375 28.21875 55.609375 21.1875 \r\nQ 55.609375 10.40625 48.1875 4.484375 \r\nQ 40.765625 -1.421875 27.09375 -1.421875 \r\nQ 22.515625 -1.421875 17.65625 -0.515625 \r\nQ 12.796875 0.390625 7.625 2.203125 \r\nL 7.625 11.71875 \r\nQ 11.71875 9.328125 16.59375 8.109375 \r\nQ 21.484375 6.890625 26.8125 6.890625 \r\nQ 36.078125 6.890625 40.9375 10.546875 \r\nQ 45.796875 14.203125 45.796875 21.1875 \r\nQ 45.796875 27.640625 41.28125 31.265625 \r\nQ 36.765625 34.90625 28.71875 34.90625 \r\nL 20.21875 34.90625 \r\nL 20.21875 43.015625 \r\nL 29.109375 43.015625 \r\nQ 36.375 43.015625 40.234375 45.921875 \r\nQ 44.09375 48.828125 44.09375 54.296875 \r\nQ 44.09375 59.90625 40.109375 62.90625 \r\nQ 36.140625 65.921875 28.71875 65.921875 \r\nQ 24.65625 65.921875 20.015625 65.03125 \r\nQ 15.375 64.15625 9.8125 62.3125 \r\nL 9.8125 71.09375 \r\nQ 15.4375 72.65625 20.34375 73.4375 \r\nQ 25.25 74.21875 29.59375 74.21875 \r\nQ 40.828125 74.21875 47.359375 69.109375 \r\nQ 53.90625 64.015625 53.90625 55.328125 \r\nQ 53.90625 49.265625 50.4375 45.09375 \r\nQ 46.96875 40.921875 40.578125 39.3125 \r\nz\r\n\" id=\"DejaVuSans-51\"/>\r\n       </defs>\r\n       <use xlink:href=\"#DejaVuSans-51\"/>\r\n       <use x=\"63.623047\" xlink:href=\"#DejaVuSans-46\"/>\r\n       <use x=\"95.410156\" xlink:href=\"#DejaVuSans-48\"/>\r\n      </g>\r\n     </g>\r\n    </g>\r\n   </g>\r\n   <g id=\"line2d_12\">\r\n    <path clip-path=\"url(#p611af8a010)\" d=\"M 45.321307 17.083636 \r\nL 79.139489 21.991667 \r\nL 112.95767 24.836903 \r\nL 146.775852 26.970829 \r\nL 180.594034 28.820232 \r\nL 214.412216 30.740766 \r\nL 248.230398 33.372609 \r\nL 282.04858 36.217844 \r\nL 315.866761 38.067247 \r\nL 349.684943 39.418734 \r\n\" style=\"fill:none;stroke:#1f77b4;stroke-linecap:square;stroke-width:1.5;\"/>\r\n   </g>\r\n   <g id=\"line2d_13\">\r\n    <path clip-path=\"url(#p611af8a010)\" d=\"M 45.321307 86.507379 \r\nL 79.139489 89.7794 \r\nL 112.95767 91.913327 \r\nL 146.775852 93.407075 \r\nL 180.594034 95.043085 \r\nL 214.412216 96.110049 \r\nL 248.230398 97.319274 \r\nL 282.04858 98.670761 \r\nL 315.866761 99.808855 \r\nL 349.684943 100.804687 \r\n\" style=\"fill:none;stroke:#ff7f0e;stroke-linecap:square;stroke-width:1.5;\"/>\r\n   </g>\r\n   <g id=\"line2d_14\">\r\n    <path clip-path=\"url(#p611af8a010)\" d=\"M 45.321307 214.756364 \r\nL 79.139489 214.756364 \r\nL 112.95767 214.614102 \r\nL 146.775852 214.47184 \r\nL 180.594034 214.187317 \r\nL 214.412216 213.973924 \r\nL 248.230398 213.6894 \r\nL 282.04858 213.333746 \r\nL 315.866761 212.622437 \r\nL 349.684943 211.982259 \r\n\" style=\"fill:none;stroke:#2ca02c;stroke-linecap:square;stroke-width:1.5;\"/>\r\n   </g>\r\n   <g id=\"patch_3\">\r\n    <path d=\"M 30.103125 224.64 \r\nL 30.103125 7.2 \r\n\" style=\"fill:none;stroke:#000000;stroke-linecap:square;stroke-linejoin:miter;stroke-width:0.8;\"/>\r\n   </g>\r\n   <g id=\"patch_4\">\r\n    <path d=\"M 364.903125 224.64 \r\nL 364.903125 7.2 \r\n\" style=\"fill:none;stroke:#000000;stroke-linecap:square;stroke-linejoin:miter;stroke-width:0.8;\"/>\r\n   </g>\r\n   <g id=\"patch_5\">\r\n    <path d=\"M 30.103125 224.64 \r\nL 364.903125 224.64 \r\n\" style=\"fill:none;stroke:#000000;stroke-linecap:square;stroke-linejoin:miter;stroke-width:0.8;\"/>\r\n   </g>\r\n   <g id=\"patch_6\">\r\n    <path d=\"M 30.103125 7.2 \r\nL 364.903125 7.2 \r\n\" style=\"fill:none;stroke:#000000;stroke-linecap:square;stroke-linejoin:miter;stroke-width:0.8;\"/>\r\n   </g>\r\n   <g id=\"legend_1\">\r\n    <g id=\"patch_7\">\r\n     <path d=\"M 158.344531 219.64 \r\nL 236.661719 219.64 \r\nQ 238.661719 219.64 238.661719 217.64 \r\nL 238.661719 159.9275 \r\nQ 238.661719 157.9275 236.661719 157.9275 \r\nL 158.344531 157.9275 \r\nQ 156.344531 157.9275 156.344531 159.9275 \r\nL 156.344531 217.64 \r\nQ 156.344531 219.64 158.344531 219.64 \r\nz\r\n\" style=\"fill:#ffffff;opacity:0.8;stroke:#cccccc;stroke-linejoin:miter;\"/>\r\n    </g>\r\n    <g id=\"text_12\">\r\n     <!-- Country -->\r\n     <g transform=\"translate(177.639844 169.525937)scale(0.1 -0.1)\">\r\n      <defs>\r\n       <path d=\"M 64.40625 67.28125 \r\nL 64.40625 56.890625 \r\nQ 59.421875 61.53125 53.78125 63.8125 \r\nQ 48.140625 66.109375 41.796875 66.109375 \r\nQ 29.296875 66.109375 22.65625 58.46875 \r\nQ 16.015625 50.828125 16.015625 36.375 \r\nQ 16.015625 21.96875 22.65625 14.328125 \r\nQ 29.296875 6.6875 41.796875 6.6875 \r\nQ 48.140625 6.6875 53.78125 8.984375 \r\nQ 59.421875 11.28125 64.40625 15.921875 \r\nL 64.40625 5.609375 \r\nQ 59.234375 2.09375 53.4375 0.328125 \r\nQ 47.65625 -1.421875 41.21875 -1.421875 \r\nQ 24.65625 -1.421875 15.125 8.703125 \r\nQ 5.609375 18.84375 5.609375 36.375 \r\nQ 5.609375 53.953125 15.125 64.078125 \r\nQ 24.65625 74.21875 41.21875 74.21875 \r\nQ 47.75 74.21875 53.53125 72.484375 \r\nQ 59.328125 70.75 64.40625 67.28125 \r\nz\r\n\" id=\"DejaVuSans-67\"/>\r\n       <path d=\"M 30.609375 48.390625 \r\nQ 23.390625 48.390625 19.1875 42.75 \r\nQ 14.984375 37.109375 14.984375 27.296875 \r\nQ 14.984375 17.484375 19.15625 11.84375 \r\nQ 23.34375 6.203125 30.609375 6.203125 \r\nQ 37.796875 6.203125 41.984375 11.859375 \r\nQ 46.1875 17.53125 46.1875 27.296875 \r\nQ 46.1875 37.015625 41.984375 42.703125 \r\nQ 37.796875 48.390625 30.609375 48.390625 \r\nz\r\nM 30.609375 56 \r\nQ 42.328125 56 49.015625 48.375 \r\nQ 55.71875 40.765625 55.71875 27.296875 \r\nQ 55.71875 13.875 49.015625 6.21875 \r\nQ 42.328125 -1.421875 30.609375 -1.421875 \r\nQ 18.84375 -1.421875 12.171875 6.21875 \r\nQ 5.515625 13.875 5.515625 27.296875 \r\nQ 5.515625 40.765625 12.171875 48.375 \r\nQ 18.84375 56 30.609375 56 \r\nz\r\n\" id=\"DejaVuSans-111\"/>\r\n       <path d=\"M 8.5 21.578125 \r\nL 8.5 54.6875 \r\nL 17.484375 54.6875 \r\nL 17.484375 21.921875 \r\nQ 17.484375 14.15625 20.5 10.265625 \r\nQ 23.53125 6.390625 29.59375 6.390625 \r\nQ 36.859375 6.390625 41.078125 11.03125 \r\nQ 45.3125 15.671875 45.3125 23.6875 \r\nL 45.3125 54.6875 \r\nL 54.296875 54.6875 \r\nL 54.296875 0 \r\nL 45.3125 0 \r\nL 45.3125 8.40625 \r\nQ 42.046875 3.421875 37.71875 1 \r\nQ 33.40625 -1.421875 27.6875 -1.421875 \r\nQ 18.265625 -1.421875 13.375 4.4375 \r\nQ 8.5 10.296875 8.5 21.578125 \r\nz\r\nM 31.109375 56 \r\nz\r\n\" id=\"DejaVuSans-117\"/>\r\n       <path d=\"M 54.890625 33.015625 \r\nL 54.890625 0 \r\nL 45.90625 0 \r\nL 45.90625 32.71875 \r\nQ 45.90625 40.484375 42.875 44.328125 \r\nQ 39.84375 48.1875 33.796875 48.1875 \r\nQ 26.515625 48.1875 22.3125 43.546875 \r\nQ 18.109375 38.921875 18.109375 30.90625 \r\nL 18.109375 0 \r\nL 9.078125 0 \r\nL 9.078125 54.6875 \r\nL 18.109375 54.6875 \r\nL 18.109375 46.1875 \r\nQ 21.34375 51.125 25.703125 53.5625 \r\nQ 30.078125 56 35.796875 56 \r\nQ 45.21875 56 50.046875 50.171875 \r\nQ 54.890625 44.34375 54.890625 33.015625 \r\nz\r\n\" id=\"DejaVuSans-110\"/>\r\n       <path d=\"M 18.3125 70.21875 \r\nL 18.3125 54.6875 \r\nL 36.8125 54.6875 \r\nL 36.8125 47.703125 \r\nL 18.3125 47.703125 \r\nL 18.3125 18.015625 \r\nQ 18.3125 11.328125 20.140625 9.421875 \r\nQ 21.96875 7.515625 27.59375 7.515625 \r\nL 36.8125 7.515625 \r\nL 36.8125 0 \r\nL 27.59375 0 \r\nQ 17.1875 0 13.234375 3.875 \r\nQ 9.28125 7.765625 9.28125 18.015625 \r\nL 9.28125 47.703125 \r\nL 2.6875 47.703125 \r\nL 2.6875 54.6875 \r\nL 9.28125 54.6875 \r\nL 9.28125 70.21875 \r\nz\r\n\" id=\"DejaVuSans-116\"/>\r\n       <path d=\"M 41.109375 46.296875 \r\nQ 39.59375 47.171875 37.8125 47.578125 \r\nQ 36.03125 48 33.890625 48 \r\nQ 26.265625 48 22.1875 43.046875 \r\nQ 18.109375 38.09375 18.109375 28.8125 \r\nL 18.109375 0 \r\nL 9.078125 0 \r\nL 9.078125 54.6875 \r\nL 18.109375 54.6875 \r\nL 18.109375 46.1875 \r\nQ 20.953125 51.171875 25.484375 53.578125 \r\nQ 30.03125 56 36.53125 56 \r\nQ 37.453125 56 38.578125 55.875 \r\nQ 39.703125 55.765625 41.0625 55.515625 \r\nz\r\n\" id=\"DejaVuSans-114\"/>\r\n       <path d=\"M 32.171875 -5.078125 \r\nQ 28.375 -14.84375 24.75 -17.8125 \r\nQ 21.140625 -20.796875 15.09375 -20.796875 \r\nL 7.90625 -20.796875 \r\nL 7.90625 -13.28125 \r\nL 13.1875 -13.28125 \r\nQ 16.890625 -13.28125 18.9375 -11.515625 \r\nQ 21 -9.765625 23.484375 -3.21875 \r\nL 25.09375 0.875 \r\nL 2.984375 54.6875 \r\nL 12.5 54.6875 \r\nL 29.59375 11.921875 \r\nL 46.6875 54.6875 \r\nL 56.203125 54.6875 \r\nz\r\n\" id=\"DejaVuSans-121\"/>\r\n      </defs>\r\n      <use xlink:href=\"#DejaVuSans-67\"/>\r\n      <use x=\"69.824219\" xlink:href=\"#DejaVuSans-111\"/>\r\n      <use x=\"131.005859\" xlink:href=\"#DejaVuSans-117\"/>\r\n      <use x=\"194.384766\" xlink:href=\"#DejaVuSans-110\"/>\r\n      <use x=\"257.763672\" xlink:href=\"#DejaVuSans-116\"/>\r\n      <use x=\"296.972656\" xlink:href=\"#DejaVuSans-114\"/>\r\n      <use x=\"338.085938\" xlink:href=\"#DejaVuSans-121\"/>\r\n     </g>\r\n    </g>\r\n    <g id=\"line2d_15\">\r\n     <path d=\"M 160.344531 180.704062 \r\nL 180.344531 180.704062 \r\n\" style=\"fill:none;stroke:#1f77b4;stroke-linecap:square;stroke-width:1.5;\"/>\r\n    </g>\r\n    <g id=\"line2d_16\"/>\r\n    <g id=\"text_13\">\r\n     <!-- Lithuania -->\r\n     <g transform=\"translate(188.344531 184.204062)scale(0.1 -0.1)\">\r\n      <defs>\r\n       <path d=\"M 9.8125 72.90625 \r\nL 19.671875 72.90625 \r\nL 19.671875 8.296875 \r\nL 55.171875 8.296875 \r\nL 55.171875 0 \r\nL 9.8125 0 \r\nz\r\n\" id=\"DejaVuSans-76\"/>\r\n       <path d=\"M 9.421875 54.6875 \r\nL 18.40625 54.6875 \r\nL 18.40625 0 \r\nL 9.421875 0 \r\nz\r\nM 9.421875 75.984375 \r\nL 18.40625 75.984375 \r\nL 18.40625 64.59375 \r\nL 9.421875 64.59375 \r\nz\r\n\" id=\"DejaVuSans-105\"/>\r\n       <path d=\"M 54.890625 33.015625 \r\nL 54.890625 0 \r\nL 45.90625 0 \r\nL 45.90625 32.71875 \r\nQ 45.90625 40.484375 42.875 44.328125 \r\nQ 39.84375 48.1875 33.796875 48.1875 \r\nQ 26.515625 48.1875 22.3125 43.546875 \r\nQ 18.109375 38.921875 18.109375 30.90625 \r\nL 18.109375 0 \r\nL 9.078125 0 \r\nL 9.078125 75.984375 \r\nL 18.109375 75.984375 \r\nL 18.109375 46.1875 \r\nQ 21.34375 51.125 25.703125 53.5625 \r\nQ 30.078125 56 35.796875 56 \r\nQ 45.21875 56 50.046875 50.171875 \r\nQ 54.890625 44.34375 54.890625 33.015625 \r\nz\r\n\" id=\"DejaVuSans-104\"/>\r\n       <path d=\"M 34.28125 27.484375 \r\nQ 23.390625 27.484375 19.1875 25 \r\nQ 14.984375 22.515625 14.984375 16.5 \r\nQ 14.984375 11.71875 18.140625 8.90625 \r\nQ 21.296875 6.109375 26.703125 6.109375 \r\nQ 34.1875 6.109375 38.703125 11.40625 \r\nQ 43.21875 16.703125 43.21875 25.484375 \r\nL 43.21875 27.484375 \r\nz\r\nM 52.203125 31.203125 \r\nL 52.203125 0 \r\nL 43.21875 0 \r\nL 43.21875 8.296875 \r\nQ 40.140625 3.328125 35.546875 0.953125 \r\nQ 30.953125 -1.421875 24.3125 -1.421875 \r\nQ 15.921875 -1.421875 10.953125 3.296875 \r\nQ 6 8.015625 6 15.921875 \r\nQ 6 25.140625 12.171875 29.828125 \r\nQ 18.359375 34.515625 30.609375 34.515625 \r\nL 43.21875 34.515625 \r\nL 43.21875 35.40625 \r\nQ 43.21875 41.609375 39.140625 45 \r\nQ 35.0625 48.390625 27.6875 48.390625 \r\nQ 23 48.390625 18.546875 47.265625 \r\nQ 14.109375 46.140625 10.015625 43.890625 \r\nL 10.015625 52.203125 \r\nQ 14.9375 54.109375 19.578125 55.046875 \r\nQ 24.21875 56 28.609375 56 \r\nQ 40.484375 56 46.34375 49.84375 \r\nQ 52.203125 43.703125 52.203125 31.203125 \r\nz\r\n\" id=\"DejaVuSans-97\"/>\r\n      </defs>\r\n      <use xlink:href=\"#DejaVuSans-76\"/>\r\n      <use x=\"55.712891\" xlink:href=\"#DejaVuSans-105\"/>\r\n      <use x=\"83.496094\" xlink:href=\"#DejaVuSans-116\"/>\r\n      <use x=\"122.705078\" xlink:href=\"#DejaVuSans-104\"/>\r\n      <use x=\"186.083984\" xlink:href=\"#DejaVuSans-117\"/>\r\n      <use x=\"249.462891\" xlink:href=\"#DejaVuSans-97\"/>\r\n      <use x=\"310.742188\" xlink:href=\"#DejaVuSans-110\"/>\r\n      <use x=\"374.121094\" xlink:href=\"#DejaVuSans-105\"/>\r\n      <use x=\"401.904297\" xlink:href=\"#DejaVuSans-97\"/>\r\n     </g>\r\n    </g>\r\n    <g id=\"line2d_17\">\r\n     <path d=\"M 160.344531 195.382187 \r\nL 180.344531 195.382187 \r\n\" style=\"fill:none;stroke:#ff7f0e;stroke-linecap:square;stroke-width:1.5;\"/>\r\n    </g>\r\n    <g id=\"line2d_18\"/>\r\n    <g id=\"text_14\">\r\n     <!-- Latvia -->\r\n     <g transform=\"translate(188.344531 198.882187)scale(0.1 -0.1)\">\r\n      <defs>\r\n       <path d=\"M 2.984375 54.6875 \r\nL 12.5 54.6875 \r\nL 29.59375 8.796875 \r\nL 46.6875 54.6875 \r\nL 56.203125 54.6875 \r\nL 35.6875 0 \r\nL 23.484375 0 \r\nz\r\n\" id=\"DejaVuSans-118\"/>\r\n      </defs>\r\n      <use xlink:href=\"#DejaVuSans-76\"/>\r\n      <use x=\"55.712891\" xlink:href=\"#DejaVuSans-97\"/>\r\n      <use x=\"116.992188\" xlink:href=\"#DejaVuSans-116\"/>\r\n      <use x=\"156.201172\" xlink:href=\"#DejaVuSans-118\"/>\r\n      <use x=\"215.380859\" xlink:href=\"#DejaVuSans-105\"/>\r\n      <use x=\"243.164062\" xlink:href=\"#DejaVuSans-97\"/>\r\n     </g>\r\n    </g>\r\n    <g id=\"line2d_19\">\r\n     <path d=\"M 160.344531 210.060312 \r\nL 180.344531 210.060312 \r\n\" style=\"fill:none;stroke:#2ca02c;stroke-linecap:square;stroke-width:1.5;\"/>\r\n    </g>\r\n    <g id=\"line2d_20\"/>\r\n    <g id=\"text_15\">\r\n     <!-- Iceland -->\r\n     <g transform=\"translate(188.344531 213.560312)scale(0.1 -0.1)\">\r\n      <defs>\r\n       <path d=\"M 9.8125 72.90625 \r\nL 19.671875 72.90625 \r\nL 19.671875 0 \r\nL 9.8125 0 \r\nz\r\n\" id=\"DejaVuSans-73\"/>\r\n       <path d=\"M 48.78125 52.59375 \r\nL 48.78125 44.1875 \r\nQ 44.96875 46.296875 41.140625 47.34375 \r\nQ 37.3125 48.390625 33.40625 48.390625 \r\nQ 24.65625 48.390625 19.8125 42.84375 \r\nQ 14.984375 37.3125 14.984375 27.296875 \r\nQ 14.984375 17.28125 19.8125 11.734375 \r\nQ 24.65625 6.203125 33.40625 6.203125 \r\nQ 37.3125 6.203125 41.140625 7.25 \r\nQ 44.96875 8.296875 48.78125 10.40625 \r\nL 48.78125 2.09375 \r\nQ 45.015625 0.34375 40.984375 -0.53125 \r\nQ 36.96875 -1.421875 32.421875 -1.421875 \r\nQ 20.0625 -1.421875 12.78125 6.34375 \r\nQ 5.515625 14.109375 5.515625 27.296875 \r\nQ 5.515625 40.671875 12.859375 48.328125 \r\nQ 20.21875 56 33.015625 56 \r\nQ 37.15625 56 41.109375 55.140625 \r\nQ 45.0625 54.296875 48.78125 52.59375 \r\nz\r\n\" id=\"DejaVuSans-99\"/>\r\n       <path d=\"M 56.203125 29.59375 \r\nL 56.203125 25.203125 \r\nL 14.890625 25.203125 \r\nQ 15.484375 15.921875 20.484375 11.0625 \r\nQ 25.484375 6.203125 34.421875 6.203125 \r\nQ 39.59375 6.203125 44.453125 7.46875 \r\nQ 49.3125 8.734375 54.109375 11.28125 \r\nL 54.109375 2.78125 \r\nQ 49.265625 0.734375 44.1875 -0.34375 \r\nQ 39.109375 -1.421875 33.890625 -1.421875 \r\nQ 20.796875 -1.421875 13.15625 6.1875 \r\nQ 5.515625 13.8125 5.515625 26.8125 \r\nQ 5.515625 40.234375 12.765625 48.109375 \r\nQ 20.015625 56 32.328125 56 \r\nQ 43.359375 56 49.78125 48.890625 \r\nQ 56.203125 41.796875 56.203125 29.59375 \r\nz\r\nM 47.21875 32.234375 \r\nQ 47.125 39.59375 43.09375 43.984375 \r\nQ 39.0625 48.390625 32.421875 48.390625 \r\nQ 24.90625 48.390625 20.390625 44.140625 \r\nQ 15.875 39.890625 15.1875 32.171875 \r\nz\r\n\" id=\"DejaVuSans-101\"/>\r\n       <path d=\"M 9.421875 75.984375 \r\nL 18.40625 75.984375 \r\nL 18.40625 0 \r\nL 9.421875 0 \r\nz\r\n\" id=\"DejaVuSans-108\"/>\r\n       <path d=\"M 45.40625 46.390625 \r\nL 45.40625 75.984375 \r\nL 54.390625 75.984375 \r\nL 54.390625 0 \r\nL 45.40625 0 \r\nL 45.40625 8.203125 \r\nQ 42.578125 3.328125 38.25 0.953125 \r\nQ 33.9375 -1.421875 27.875 -1.421875 \r\nQ 17.96875 -1.421875 11.734375 6.484375 \r\nQ 5.515625 14.40625 5.515625 27.296875 \r\nQ 5.515625 40.1875 11.734375 48.09375 \r\nQ 17.96875 56 27.875 56 \r\nQ 33.9375 56 38.25 53.625 \r\nQ 42.578125 51.265625 45.40625 46.390625 \r\nz\r\nM 14.796875 27.296875 \r\nQ 14.796875 17.390625 18.875 11.75 \r\nQ 22.953125 6.109375 30.078125 6.109375 \r\nQ 37.203125 6.109375 41.296875 11.75 \r\nQ 45.40625 17.390625 45.40625 27.296875 \r\nQ 45.40625 37.203125 41.296875 42.84375 \r\nQ 37.203125 48.484375 30.078125 48.484375 \r\nQ 22.953125 48.484375 18.875 42.84375 \r\nQ 14.796875 37.203125 14.796875 27.296875 \r\nz\r\n\" id=\"DejaVuSans-100\"/>\r\n      </defs>\r\n      <use xlink:href=\"#DejaVuSans-73\"/>\r\n      <use x=\"29.492188\" xlink:href=\"#DejaVuSans-99\"/>\r\n      <use x=\"84.472656\" xlink:href=\"#DejaVuSans-101\"/>\r\n      <use x=\"145.996094\" xlink:href=\"#DejaVuSans-108\"/>\r\n      <use x=\"173.779297\" xlink:href=\"#DejaVuSans-97\"/>\r\n      <use x=\"235.058594\" xlink:href=\"#DejaVuSans-110\"/>\r\n      <use x=\"298.4375\" xlink:href=\"#DejaVuSans-100\"/>\r\n     </g>\r\n    </g>\r\n   </g>\r\n  </g>\r\n </g>\r\n <defs>\r\n  <clipPath id=\"p611af8a010\">\r\n   <rect height=\"217.44\" width=\"334.8\" x=\"30.103125\" y=\"7.2\"/>\r\n  </clipPath>\r\n </defs>\r\n</svg>\r\n",
      "image/png": "[encoded data removed]"
     },
     "metadata": {
      "needs_background": "light"
     }
    }
   ],
   "source": [
    "import matplotlib.pyplot as plt\n",
    "\n",
    "'''\n",
    "plot of OECD countries population\n",
    "'''\n",
    "\n",
    "population_key = 'LP'\n",
    "# population_df = df.loc[ (df[weo_subject_code] == population_key) & (df[country_name] == 'Lithuania')]\n",
    "population_df = df.loc[ (df[weo_subject_code] == population_key)]\n",
    "# sets index and index is stored for future\n",
    "population_df = population_df.set_index(country_name)\n",
    "population_df = population_df.loc[oecd_countries]\n",
    "\n",
    "# do not convert to string for filtering\n",
    "# rather convert dataframe to floats\n",
    "decade = []\n",
    "for i in range(2010,2020):\n",
    "    decade.append(str(i))\n",
    "\n",
    "# https://pandas.pydata.org/docs/getting_started/intro_tutorials/03_subset_data.html\n",
    "population_df = population_df[decade]\n",
    "population_df = population_df.T\n",
    "# wrong data type is set needs to cast to numeris type\n",
    "population_df = population_df.astype('float')\n",
    "population_df = population_df[['Lithuania', 'Latvia', 'Iceland']]\n",
    "#population_df = population_df.set_index('index')\n",
    "# population_df = population_df.set_index(0)\n",
    "#population_df\n",
    "# population_df = population_df.cumsum()\n",
    "plt.figure()\n",
    "population_df.plot()\n"
   ]
  },
  {
   "cell_type": "code",
   "execution_count": 49,
   "metadata": {},
   "outputs": [
    {
     "output_type": "execute_result",
     "data": {
      "text/plain": [
       "                       1980    1981    1982    1983    1984    1985    1986  \\\n",
       "Country                                                                       \n",
       "Afghanistan             NaN     NaN     NaN     NaN     NaN     NaN     NaN   \n",
       "Albania               1.946   2.229   2.296   2.319   2.290   2.339   2.587   \n",
       "Algeria              42.346  44.372  44.780  47.529  51.513  61.132  61.535   \n",
       "Angola                6.639   6.214   6.214   6.476   6.864   8.457   7.918   \n",
       "Antigua and Barbuda   0.131   0.148   0.164   0.182   0.208   0.241   0.290   \n",
       "...                     ...     ...     ...     ...     ...     ...     ...   \n",
       "Vietnam              35.357  17.617  23.369  35.204  61.171  19.045  43.009   \n",
       "West Bank and Gaza      NaN     NaN     NaN     NaN     NaN     NaN     NaN   \n",
       "Yemen                   NaN     NaN     NaN     NaN     NaN     NaN     NaN   \n",
       "Zambia                4.246   4.385   4.232   3.653   3.003   2.848   1.962   \n",
       "Zimbabwe                NaN     NaN     NaN     NaN     NaN     NaN     NaN   \n",
       "\n",
       "                       1987    1988    1989  ...     2010     2011     2012  \\\n",
       "Country                                      ...                              \n",
       "Afghanistan             NaN     NaN     NaN  ...   15.325   17.890   20.293   \n",
       "Albania               2.566   2.530   2.779  ...   11.937   12.899   12.324   \n",
       "Algeria              63.300  51.664  52.558  ...  161.207  200.251  209.016   \n",
       "Angola                9.050   9.818  11.421  ...   83.799  111.790  128.053   \n",
       "Antigua and Barbuda   0.337   0.399   0.439  ...    1.149    1.138    1.200   \n",
       "...                     ...     ...     ...  ...      ...      ...      ...   \n",
       "Vietnam              53.385  29.501   7.991  ...  143.257  171.368  195.168   \n",
       "West Bank and Gaza      NaN     NaN     NaN  ...    9.682   11.182   12.204   \n",
       "Yemen                   NaN     NaN     NaN  ...   30.907   32.726   35.401   \n",
       "Zambia                2.431   4.095   4.365  ...   20.265   23.460   25.503   \n",
       "Zimbabwe                NaN     NaN     NaN  ...   12.042   14.102   17.115   \n",
       "\n",
       "                        2013     2014     2015     2016     2017     2018  \\\n",
       "Country                                                                     \n",
       "Afghanistan           20.170   20.635   20.220   17.994   18.910   18.401   \n",
       "Albania               12.784   13.246   11.389   11.862   13.053   15.147   \n",
       "Algeria              209.755  213.810  165.979  160.034  167.390  173.757   \n",
       "Angola               136.710  145.712  116.194  101.124  122.124  105.902   \n",
       "Antigua and Barbuda    1.181    1.250    1.337    1.437    1.468    1.605   \n",
       "...                      ...      ...      ...      ...      ...      ...   \n",
       "Vietnam              212.738  232.893  236.840  252.149  277.074  304.016   \n",
       "West Bank and Gaza    13.502   13.976   13.967   15.403   16.117   16.300   \n",
       "Yemen                 40.415   43.229   42.445   30.934   26.736   23.486   \n",
       "Zambia                28.046   27.151   21.243   20.941   25.868   27.005   \n",
       "Zimbabwe              19.091   19.496   19.963   20.054   21.890   20.837   \n",
       "\n",
       "                        2019  \n",
       "Country                       \n",
       "Afghanistan           18.876  \n",
       "Albania               15.276  \n",
       "Algeria              169.267  \n",
       "Angola                89.417  \n",
       "Antigua and Barbuda    1.662  \n",
       "...                      ...  \n",
       "Vietnam              329.537  \n",
       "West Bank and Gaza    17.051  \n",
       "Yemen                 22.568  \n",
       "Zambia                24.156  \n",
       "Zimbabwe              18.699  \n",
       "\n",
       "[195 rows x 40 columns]"
      ],
      "text/html": "<div>\n<style scoped>\n    .dataframe tbody tr th:only-of-type {\n        vertical-align: middle;\n    }\n\n    .dataframe tbody tr th {\n        vertical-align: top;\n    }\n\n    .dataframe thead th {\n        text-align: right;\n    }\n</style>\n<table border=\"1\" class=\"dataframe\">\n  <thead>\n    <tr style=\"text-align: right;\">\n      <th></th>\n      <th>1980</th>\n      <th>1981</th>\n      <th>1982</th>\n      <th>1983</th>\n      <th>1984</th>\n      <th>1985</th>\n      <th>1986</th>\n      <th>1987</th>\n      <th>1988</th>\n      <th>1989</th>\n      <th>...</th>\n      <th>2010</th>\n      <th>2011</th>\n      <th>2012</th>\n      <th>2013</th>\n      <th>2014</th>\n      <th>2015</th>\n      <th>2016</th>\n      <th>2017</th>\n      <th>2018</th>\n      <th>2019</th>\n    </tr>\n    <tr>\n      <th>Country</th>\n      <th></th>\n      <th></th>\n      <th></th>\n      <th></th>\n      <th></th>\n      <th></th>\n      <th></th>\n      <th></th>\n      <th></th>\n      <th></th>\n      <th></th>\n      <th></th>\n      <th></th>\n      <th></th>\n      <th></th>\n      <th></th>\n      <th></th>\n      <th></th>\n      <th></th>\n      <th></th>\n      <th></th>\n    </tr>\n  </thead>\n  <tbody>\n    <tr>\n      <th>Afghanistan</th>\n      <td>NaN</td>\n      <td>NaN</td>\n      <td>NaN</td>\n      <td>NaN</td>\n      <td>NaN</td>\n      <td>NaN</td>\n      <td>NaN</td>\n      <td>NaN</td>\n      <td>NaN</td>\n      <td>NaN</td>\n      <td>...</td>\n      <td>15.325</td>\n      <td>17.890</td>\n      <td>20.293</td>\n      <td>20.170</td>\n      <td>20.635</td>\n      <td>20.220</td>\n      <td>17.994</td>\n      <td>18.910</td>\n      <td>18.401</td>\n      <td>18.876</td>\n    </tr>\n    <tr>\n      <th>Albania</th>\n      <td>1.946</td>\n      <td>2.229</td>\n      <td>2.296</td>\n      <td>2.319</td>\n      <td>2.290</td>\n      <td>2.339</td>\n      <td>2.587</td>\n      <td>2.566</td>\n      <td>2.530</td>\n      <td>2.779</td>\n      <td>...</td>\n      <td>11.937</td>\n      <td>12.899</td>\n      <td>12.324</td>\n      <td>12.784</td>\n      <td>13.246</td>\n      <td>11.389</td>\n      <td>11.862</td>\n      <td>13.053</td>\n      <td>15.147</td>\n      <td>15.276</td>\n    </tr>\n    <tr>\n      <th>Algeria</th>\n      <td>42.346</td>\n      <td>44.372</td>\n      <td>44.780</td>\n      <td>47.529</td>\n      <td>51.513</td>\n      <td>61.132</td>\n      <td>61.535</td>\n      <td>63.300</td>\n      <td>51.664</td>\n      <td>52.558</td>\n      <td>...</td>\n      <td>161.207</td>\n      <td>200.251</td>\n      <td>209.016</td>\n      <td>209.755</td>\n      <td>213.810</td>\n      <td>165.979</td>\n      <td>160.034</td>\n      <td>167.390</td>\n      <td>173.757</td>\n      <td>169.267</td>\n    </tr>\n    <tr>\n      <th>Angola</th>\n      <td>6.639</td>\n      <td>6.214</td>\n      <td>6.214</td>\n      <td>6.476</td>\n      <td>6.864</td>\n      <td>8.457</td>\n      <td>7.918</td>\n      <td>9.050</td>\n      <td>9.818</td>\n      <td>11.421</td>\n      <td>...</td>\n      <td>83.799</td>\n      <td>111.790</td>\n      <td>128.053</td>\n      <td>136.710</td>\n      <td>145.712</td>\n      <td>116.194</td>\n      <td>101.124</td>\n      <td>122.124</td>\n      <td>105.902</td>\n      <td>89.417</td>\n    </tr>\n    <tr>\n      <th>Antigua and Barbuda</th>\n      <td>0.131</td>\n      <td>0.148</td>\n      <td>0.164</td>\n      <td>0.182</td>\n      <td>0.208</td>\n      <td>0.241</td>\n      <td>0.290</td>\n      <td>0.337</td>\n      <td>0.399</td>\n      <td>0.439</td>\n      <td>...</td>\n      <td>1.149</td>\n      <td>1.138</td>\n      <td>1.200</td>\n      <td>1.181</td>\n      <td>1.250</td>\n      <td>1.337</td>\n      <td>1.437</td>\n      <td>1.468</td>\n      <td>1.605</td>\n      <td>1.662</td>\n    </tr>\n    <tr>\n      <th>...</th>\n      <td>...</td>\n      <td>...</td>\n      <td>...</td>\n      <td>...</td>\n      <td>...</td>\n      <td>...</td>\n      <td>...</td>\n      <td>...</td>\n      <td>...</td>\n      <td>...</td>\n      <td>...</td>\n      <td>...</td>\n      <td>...</td>\n      <td>...</td>\n      <td>...</td>\n      <td>...</td>\n      <td>...</td>\n      <td>...</td>\n      <td>...</td>\n      <td>...</td>\n      <td>...</td>\n    </tr>\n    <tr>\n      <th>Vietnam</th>\n      <td>35.357</td>\n      <td>17.617</td>\n      <td>23.369</td>\n      <td>35.204</td>\n      <td>61.171</td>\n      <td>19.045</td>\n      <td>43.009</td>\n      <td>53.385</td>\n      <td>29.501</td>\n      <td>7.991</td>\n      <td>...</td>\n      <td>143.257</td>\n      <td>171.368</td>\n      <td>195.168</td>\n      <td>212.738</td>\n      <td>232.893</td>\n      <td>236.840</td>\n      <td>252.149</td>\n      <td>277.074</td>\n      <td>304.016</td>\n      <td>329.537</td>\n    </tr>\n    <tr>\n      <th>West Bank and Gaza</th>\n      <td>NaN</td>\n      <td>NaN</td>\n      <td>NaN</td>\n      <td>NaN</td>\n      <td>NaN</td>\n      <td>NaN</td>\n      <td>NaN</td>\n      <td>NaN</td>\n      <td>NaN</td>\n      <td>NaN</td>\n      <td>...</td>\n      <td>9.682</td>\n      <td>11.182</td>\n      <td>12.204</td>\n      <td>13.502</td>\n      <td>13.976</td>\n      <td>13.967</td>\n      <td>15.403</td>\n      <td>16.117</td>\n      <td>16.300</td>\n      <td>17.051</td>\n    </tr>\n    <tr>\n      <th>Yemen</th>\n      <td>NaN</td>\n      <td>NaN</td>\n      <td>NaN</td>\n      <td>NaN</td>\n      <td>NaN</td>\n      <td>NaN</td>\n      <td>NaN</td>\n      <td>NaN</td>\n      <td>NaN</td>\n      <td>NaN</td>\n      <td>...</td>\n      <td>30.907</td>\n      <td>32.726</td>\n      <td>35.401</td>\n      <td>40.415</td>\n      <td>43.229</td>\n      <td>42.445</td>\n      <td>30.934</td>\n      <td>26.736</td>\n      <td>23.486</td>\n      <td>22.568</td>\n    </tr>\n    <tr>\n      <th>Zambia</th>\n      <td>4.246</td>\n      <td>4.385</td>\n      <td>4.232</td>\n      <td>3.653</td>\n      <td>3.003</td>\n      <td>2.848</td>\n      <td>1.962</td>\n      <td>2.431</td>\n      <td>4.095</td>\n      <td>4.365</td>\n      <td>...</td>\n      <td>20.265</td>\n      <td>23.460</td>\n      <td>25.503</td>\n      <td>28.046</td>\n      <td>27.151</td>\n      <td>21.243</td>\n      <td>20.941</td>\n      <td>25.868</td>\n      <td>27.005</td>\n      <td>24.156</td>\n    </tr>\n    <tr>\n      <th>Zimbabwe</th>\n      <td>NaN</td>\n      <td>NaN</td>\n      <td>NaN</td>\n      <td>NaN</td>\n      <td>NaN</td>\n      <td>NaN</td>\n      <td>NaN</td>\n      <td>NaN</td>\n      <td>NaN</td>\n      <td>NaN</td>\n      <td>...</td>\n      <td>12.042</td>\n      <td>14.102</td>\n      <td>17.115</td>\n      <td>19.091</td>\n      <td>19.496</td>\n      <td>19.963</td>\n      <td>20.054</td>\n      <td>21.890</td>\n      <td>20.837</td>\n      <td>18.699</td>\n    </tr>\n  </tbody>\n</table>\n<p>195 rows × 40 columns</p>\n</div>"
     },
     "metadata": {},
     "execution_count": 49
    }
   ],
   "source": [
    "'''save all countries GDP in different PNG files'''\n",
    "\n",
    "# Gross domestic product, current prices\n",
    "# Values are based upon GDP in national currency converted to U.S. dollars\n",
    "gdp_key = 'NGDPD'\n",
    "\n",
    "gdp_df = df.loc[lambda df: df[weo_subject_code] == gdp_key]\n",
    "gdp_df = gdp_df.set_index(country_name)\n",
    "\n",
    "selected_cols = []\n",
    "\n",
    "for col in gdp_df.columns:\n",
    "    if col == iso_col or col == weo_subject_code or col == estimates_after:\n",
    "       continue\n",
    "\n",
    "    selected_cols.append(col)\n",
    "\n",
    "gdp_df = gdp_df[selected_cols]\n",
    "# https://stackoverflow.com/a/49896522\n",
    "# applies lambda to colums\n",
    "gdp_df = gdp_df.apply(lambda df: df.str.replace(',','').astype('float'),axis=0)\n",
    "#gdp_df.dropna()\n",
    "gdp_df\n"
   ]
  },
  {
   "cell_type": "code",
   "execution_count": 67,
   "metadata": {},
   "outputs": [
    {
     "output_type": "stream",
     "name": "stdout",
     "text": [
      "BCA\nBCA_NGDPD\nFLIBOR6\nGGR\nGGR_NGDP\nGGSB\nGGSB_NPGDP\nGGX\nGGXCNL\nGGXCNL_NGDP\nGGXONLB\nGGXONLB_NGDP\nGGXWDG\nGGXWDG_NGDP\nGGXWDN\nGGXWDN_NGDP\nGGX_NGDP\nLE\nLP\nLUR\nNGAP_NPGDP\nNGDP\nNGDPD\nNGDPDPC\nNGDPPC\nNGDPRPC\nNGDPRPPPPC\nNGDP_D\nNGDP_FY\nNGDP_R\nNGDP_RPCH\nNGSD_NGDP\nNID_NGDP\nPCPI\nPCPIE\nPCPIEPCH\nPCPIPCH\nPPPEX\nPPPGDP\nPPPPC\nPPPSH\nTMG_RPCH\nTM_RPCH\nTXG_RPCH\nTX_RPCH\n"
     ]
    }
   ],
   "source": [
    "''' find lowest common denominator for year 2015 '''\n",
    "common_denominator_df = df[[weo_subject_code,'2015']]\n",
    "common_denominator_df = common_denominator_df.dropna()\n",
    "common_denominator_df = common_denominator_df[[weo_subject_code]]\n",
    "common_denominator_df = common_denominator_df.groupby([weo_subject_code])\n",
    "\n",
    "# common_denominator_df.apply(print)\n",
    "# https://stackoverflow.com/a/36951842\n",
    "for key in common_denominator_df.groups.keys():\n",
    "   print(key)\n"
   ]
  },
  {
   "cell_type": "code",
   "execution_count": 35,
   "metadata": {},
   "outputs": [
    {
     "output_type": "execute_result",
     "data": {
      "text/plain": [
       "   a\n",
       "0  0\n",
       "1  3"
      ],
      "text/html": "<div>\n<style scoped>\n    .dataframe tbody tr th:only-of-type {\n        vertical-align: middle;\n    }\n\n    .dataframe tbody tr th {\n        vertical-align: top;\n    }\n\n    .dataframe thead th {\n        text-align: right;\n    }\n</style>\n<table border=\"1\" class=\"dataframe\">\n  <thead>\n    <tr style=\"text-align: right;\">\n      <th></th>\n      <th>a</th>\n    </tr>\n  </thead>\n  <tbody>\n    <tr>\n      <th>0</th>\n      <td>0</td>\n    </tr>\n    <tr>\n      <th>1</th>\n      <td>3</td>\n    </tr>\n  </tbody>\n</table>\n</div>"
     },
     "metadata": {},
     "execution_count": 35
    }
   ],
   "source": [
    "import io\n",
    "t=\"\"\"a,b,c\n",
    "0,1,2\n",
    "3,4,5\"\"\"\n",
    "pd.read_csv(io.StringIO(t), header=0, usecols=['a'])\n"
   ]
  },
  {
   "cell_type": "code",
   "execution_count": 36,
   "metadata": {},
   "outputs": [
    {
     "output_type": "stream",
     "name": "stdout",
     "text": [
      "The pycodestyle_magic extension is already loaded. To reload it, use:\n  %reload_ext pycodestyle_magic\n"
     ]
    }
   ],
   "source": [
    "%load_ext pycodestyle_magic\n"
   ]
  },
  {
   "cell_type": "code",
   "execution_count": 37,
   "metadata": {},
   "outputs": [
    {
     "output_type": "execute_result",
     "data": {
      "text/plain": [
       "{'AUSTRALIA',\n",
       " 'Austria',\n",
       " 'BELGIUM',\n",
       " 'CANADA',\n",
       " 'CHILE',\n",
       " 'COLOMBIA',\n",
       " 'CZECH REPUBLIC',\n",
       " 'DENMARK',\n",
       " 'ESTONIA',\n",
       " 'FINLAND',\n",
       " 'FRANCE',\n",
       " 'GERMANY',\n",
       " 'GREECE',\n",
       " 'HUNGARY',\n",
       " 'ICELAND',\n",
       " 'IRELAND',\n",
       " 'ISRAEL',\n",
       " 'ITALY',\n",
       " 'JAPAN',\n",
       " 'KOREA',\n",
       " 'LATVIA',\n",
       " 'LUXEMBOURG',\n",
       " 'Lithuania',\n",
       " 'MEXICO',\n",
       " 'NETHERLANDS',\n",
       " 'NEW ZEALAND',\n",
       " 'NORWAY',\n",
       " 'POLAND',\n",
       " 'PORTUGAL',\n",
       " 'SLOVAK REPUBLIC',\n",
       " 'SLOVENIA',\n",
       " 'SPAIN',\n",
       " 'SWEDEN',\n",
       " 'SWITZERLAND',\n",
       " 'TURKEY',\n",
       " 'UNITED KINGDOM',\n",
       " 'UNITED STATES'}"
      ]
     },
     "metadata": {},
     "execution_count": 37
    }
   ],
   "source": [
    "oecd_countries = {'AUSTRIA'.title(),\n",
    "'AUSTRALIA',\n",
    "'BELGIUM',\n",
    "'CANADA',\n",
    "'CHILE',\n",
    "'COLOMBIA',\n",
    "'CZECH REPUBLIC',\n",
    "'DENMARK',\n",
    "'ESTONIA',\n",
    "'FINLAND',\n",
    "'FRANCE',\n",
    "'GERMANY',\n",
    "'GREECE',\n",
    "'HUNGARY',\n",
    "'ICELAND',\n",
    "'IRELAND',\n",
    "'ISRAEL',\n",
    "'ITALY',\n",
    "'JAPAN',\n",
    "'KOREA',\n",
    "'LATVIA',\n",
    "'Lithuania',\n",
    "'LUXEMBOURG',\n",
    "'MEXICO',\n",
    "'NETHERLANDS',\n",
    "'NEW ZEALAND',\n",
    "'NORWAY',\n",
    "'POLAND',\n",
    "'PORTUGAL',\n",
    "'SLOVAK REPUBLIC',\n",
    "'SLOVENIA',\n",
    "'SPAIN',\n",
    "'SWEDEN',\n",
    "'SWITZERLAND',\n",
    "'TURKEY',\n",
    "'UNITED KINGDOM',\n",
    "'UNITED STATES'}\n",
    "oecd_countries\n"
   ]
  },
  {
   "cell_type": "code",
   "execution_count": 38,
   "metadata": {},
   "outputs": [],
   "source": [
    "plt.close('all')\n",
    "\n",
    "ts = pd.Series(np.random.randn(1000),\n",
    "   index=pd.date_range('1/1/2000', periods=1000))\n",
    "\n",
    "#ts\n",
    "# ts = ts.cumsum()\n",
    "# ts.plot()\n",
    "\n",
    "# plot_test_df = pd.DataFrame(np.random.randn(1000, 4),\n",
    "#    index=ts.index, columns=list('ABCD'))\n",
    "\n",
    "#plot_test_df\n",
    "\n",
    "\n",
    "#plot_test_df = plot_test_df.cumsum()\n",
    "\n",
    "# plt.figure()\n",
    "\n",
    "# plot_test_df.plot()"
   ]
  },
  {
   "cell_type": "code",
   "execution_count": null,
   "metadata": {},
   "outputs": [],
   "source": []
  }
 ]
}