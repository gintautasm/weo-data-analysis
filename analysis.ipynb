{
 "metadata": {
  "language_info": {
   "codemirror_mode": {
    "name": "ipython",
    "version": 3
   },
   "file_extension": ".py",
   "mimetype": "text/x-python",
   "name": "python",
   "nbconvert_exporter": "python",
   "pygments_lexer": "ipython3",
   "version": "3.8.3-final"
  },
  "orig_nbformat": 2,
  "kernelspec": {
   "name": "python38332bitf61978c659e34062ad29b2c1a667dcdd",
   "display_name": "Python 3.8.3 32-bit",
   "language": "python"
  }
 },
 "nbformat": 4,
 "nbformat_minor": 2,
 "cells": [
  {
   "cell_type": "code",
   "execution_count": 53,
   "metadata": {},
   "outputs": [
    {
     "output_type": "stream",
     "name": "stderr",
     "text": [
      "14:1: W391 blank line at end of file\n"
     ]
    }
   ],
   "source": [
    "# %%pycodestyle\n",
    "# https://stackoverflow.com/a/54278757\n",
    "\n",
    "import pandas as pd\n",
    "\n",
    "df = pd.read_table(\n",
    "    'WEOOct2020all.xls',\n",
    "    # nrows=10,\n",
    "    encoding='UTF-16-LE',\n",
    "    usecols=['WEO Subject Code', 'Subject Descriptor', 'Subject Notes']\n",
    ")\n",
    "\n",
    "# https://stackoverflow.com/a/64307654\n",
    "df[lambda col: col['WEO Subject Code'] == 'NGDPRPPPPC']\n"
   ]
  },
  {
   "cell_type": "code",
   "execution_count": 25,
   "metadata": {},
   "outputs": [
    {
     "output_type": "execute_result",
     "data": {
      "text/plain": [
       "   a\n",
       "0  0\n",
       "1  3"
      ],
      "text/html": "<div>\n<style scoped>\n    .dataframe tbody tr th:only-of-type {\n        vertical-align: middle;\n    }\n\n    .dataframe tbody tr th {\n        vertical-align: top;\n    }\n\n    .dataframe thead th {\n        text-align: right;\n    }\n</style>\n<table border=\"1\" class=\"dataframe\">\n  <thead>\n    <tr style=\"text-align: right;\">\n      <th></th>\n      <th>a</th>\n    </tr>\n  </thead>\n  <tbody>\n    <tr>\n      <th>0</th>\n      <td>0</td>\n    </tr>\n    <tr>\n      <th>1</th>\n      <td>3</td>\n    </tr>\n  </tbody>\n</table>\n</div>"
     },
     "metadata": {},
     "execution_count": 25
    }
   ],
   "source": [
    "import io\n",
    "t=\"\"\"a,b,c\n",
    "0,1,2\n",
    "3,4,5\"\"\"\n",
    "pd.read_csv(io.StringIO(t), header=0, usecols=['a'])\n"
   ]
  },
  {
   "cell_type": "code",
   "execution_count": 44,
   "metadata": {},
   "outputs": [],
   "source": [
    "%load_ext pycodestyle_magic\n"
   ]
  },
  {
   "cell_type": "code",
   "execution_count": null,
   "metadata": {},
   "outputs": [],
   "source": []
  }
 ]
}